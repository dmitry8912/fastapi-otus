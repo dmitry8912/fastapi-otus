{
 "cells": [
  {
   "cell_type": "markdown",
   "id": "bf02c069-cee8-4766-9b26-fa54bb1f0e45",
   "metadata": {},
   "source": [
    "# FastAPI"
   ]
  },
  {
   "cell_type": "markdown",
   "id": "142d3180-3c33-469b-bb83-11d8c35c1197",
   "metadata": {},
   "source": [
    "- Основы\n",
    "    - Path operation\n",
    "    - Request\\Response\n",
    "    - Models\n",
    "    - Pydantic\n",
    "    - Dependencies\n",
    "    - Deploy\n",
    "- Работа с БД\n",
    "    - SQLAlchemy\n",
    "        - Подключение\n",
    "        - CRUD\n",
    "        - sync\\async\n",
    "    - Authentication schemas\n",
    "        - Basic\n",
    "        - Bearer\n",
    "        - OAuth2\n",
    "        - JWT"
   ]
  },
  {
   "cell_type": "markdown",
   "id": "1ff11eb4-eb1a-4a5e-96eb-81de194058c6",
   "metadata": {},
   "source": [
    "## Основы"
   ]
  },
  {
   "cell_type": "markdown",
   "id": "4b0dbe46-61f5-4e44-9a5c-ef72f36fda7e",
   "metadata": {},
   "source": [
    "**Цели занятия**:\n",
    "- Запустить простое приложение\n",
    "- Провалидировать модель запроса и ответа с помощью Pydantic\n",
    "- Добавить простую аутентификаицю\n",
    "- Собрать docker-контейнер с приложением"
   ]
  },
  {
   "cell_type": "markdown",
   "id": "4df11e2d-bbba-446d-becf-7d748311bf81",
   "metadata": {},
   "source": [
    "Documentation: https://fastapi.tiangolo.com/\n",
    "\n",
    "Tutorial: https://fastapi.tiangolo.com/tutorial/"
   ]
  },
  {
   "cell_type": "markdown",
   "id": "22f164f1-cd0a-4cd0-aa17-b3a260b6b4a6",
   "metadata": {},
   "source": [
    "**Чем хорош FastAPI?**\n",
    "\n",
    "- Современный веб-фреймворк для быстрой разработки\n",
    "- Достаточно быстрый\n",
    "- Много фич из коробки\n",
    "- autodocs"
   ]
  },
  {
   "cell_type": "markdown",
   "id": "02235922-3096-44dc-aea2-16df14c8fe3b",
   "metadata": {},
   "source": [
    "### Установка"
   ]
  },
  {
   "cell_type": "code",
   "execution_count": null,
   "id": "bb5d51de-0a8d-41c8-b920-d56c5e7bc5f3",
   "metadata": {},
   "outputs": [],
   "source": [
    "pip install \"fastapi[all]\"\n",
    "pip install \"uvicorn[standard]\""
   ]
  },
  {
   "cell_type": "markdown",
   "id": "1b4df297-e052-41f0-9865-e97e464dabba",
   "metadata": {
    "tags": []
   },
   "source": [
    "### Hello world"
   ]
  },
  {
   "cell_type": "code",
   "execution_count": null,
   "id": "0a3d1657-8e19-4025-a0d1-963d4fa7f8a5",
   "metadata": {},
   "outputs": [],
   "source": [
    "from fastapi import FastAPI\n",
    "\n",
    "app = FastAPI()\n",
    "\n",
    "\n",
    "@app.get(\"/\")\n",
    "async def root():\n",
    "    return {\"message\": \"Hello World\"}"
   ]
  },
  {
   "cell_type": "markdown",
   "id": "c585a4d8-4bd3-4a48-9e29-e6aa4a25024c",
   "metadata": {},
   "source": [
    "### Запуск"
   ]
  },
  {
   "cell_type": "code",
   "execution_count": null,
   "id": "0af83405-7be6-44ac-bac8-90c045bc602f",
   "metadata": {},
   "outputs": [],
   "source": [
    "uvicorn main:app --reload"
   ]
  },
  {
   "cell_type": "markdown",
   "id": "c10d41c3-0010-4680-a55f-18f24fe16ac3",
   "metadata": {},
   "source": [
    "либо"
   ]
  },
  {
   "cell_type": "code",
   "execution_count": null,
   "id": "3b72fc21-e5eb-4116-88bc-e5da1c892953",
   "metadata": {},
   "outputs": [],
   "source": [
    "import uvicorn\n",
    "\n",
    "if __name__ == \"__main__\":\n",
    "    uvicorn.run(\"app.main:app\", host=\"0.0.0.0\", port=8000, reload=True, log_level='error')"
   ]
  },
  {
   "cell_type": "markdown",
   "id": "ce7a77e9-176c-48ad-9940-b585be8fb6ba",
   "metadata": {},
   "source": [
    "либо с помощью gunicorn"
   ]
  },
  {
   "cell_type": "markdown",
   "id": "0bd86e39-dab9-48b8-b396-4e8e3647a34f",
   "metadata": {
    "tags": []
   },
   "source": [
    "### Request parameters"
   ]
  },
  {
   "cell_type": "markdown",
   "id": "458b7ef3-cba8-4b63-93c0-80c9bc822b28",
   "metadata": {},
   "source": [
    "1. Path parameters\n",
    "2. Query string\n",
    "3. Request body\n",
    "    - Form\n",
    "    - Files\n",
    "    - JSON\n",
    "4. Headers"
   ]
  },
  {
   "cell_type": "markdown",
   "id": "cd751f02-ac56-4e8c-b702-0ef6142cea58",
   "metadata": {},
   "source": [
    "#### Path parameters"
   ]
  },
  {
   "cell_type": "markdown",
   "id": "6800b5d7-90ee-428a-99c0-3deb0f62210e",
   "metadata": {},
   "source": [
    "Позволяет извлекать параметры из пути, по которому произошло обращение на сервер, используя плейсхолдеры с именами параметров, передаваемыми в качестве аргументов в функции-обработчики запросов"
   ]
  },
  {
   "cell_type": "code",
   "execution_count": null,
   "id": "2b97785c-38c9-435a-878c-be8148b7bd3c",
   "metadata": {},
   "outputs": [],
   "source": [
    "@app.get(\"/items/{item_id}\")\n",
    "async def read_item(item_id):\n",
    "    return {\"item_id\": item_id}"
   ]
  },
  {
   "cell_type": "code",
   "execution_count": 20,
   "id": "d556b043-8603-4570-bd67-c2078167209b",
   "metadata": {},
   "outputs": [
    {
     "name": "stdout",
     "output_type": "stream",
     "text": [
      "  HTTP/1.1 422 Unprocessable Entity\n",
      "  date: Tue, 10 Oct 2023 16:09:27 GMT\n",
      "  server: uvicorn\n",
      "  content-length: 214\n",
      "  content-type: application/json\n"
     ]
    }
   ],
   "source": [
    "! wget -q -S -O - http://172.27.10.31:8001/items/ret83g7f67e"
   ]
  },
  {
   "cell_type": "code",
   "execution_count": null,
   "id": "30b56798-16e4-43b4-af19-8b613c47fb20",
   "metadata": {},
   "outputs": [],
   "source": [
    "@app.get(\"/items/{item_id}\")\n",
    "async def read_item(item_id: int):\n",
    "    return {\"item_id\": item_id}"
   ]
  },
  {
   "cell_type": "code",
   "execution_count": 19,
   "id": "324b5342-2d18-4294-b865-4e55c6d65bfb",
   "metadata": {},
   "outputs": [
    {
     "name": "stdout",
     "output_type": "stream",
     "text": [
      "  HTTP/1.1 200 OK\n",
      "  date: Tue, 10 Oct 2023 16:09:17 GMT\n",
      "  server: uvicorn\n",
      "  content-length: 15\n",
      "  content-type: application/json\n",
      "{\"item_id\":678}"
     ]
    }
   ],
   "source": [
    "! wget -q -S -O - http://172.27.10.31:8001/items/678"
   ]
  },
  {
   "cell_type": "code",
   "execution_count": 18,
   "id": "fd5778b2-78d1-4485-bf0d-c492fd7c5258",
   "metadata": {},
   "outputs": [
    {
     "name": "stdout",
     "output_type": "stream",
     "text": [
      "  HTTP/1.1 422 Unprocessable Entity\n",
      "  date: Tue, 10 Oct 2023 16:09:10 GMT\n",
      "  server: uvicorn\n",
      "  content-length: 209\n",
      "  content-type: application/json\n"
     ]
    }
   ],
   "source": [
    "! wget -q -S -O - http://172.27.10.31:8001/items/ce6e56"
   ]
  },
  {
   "cell_type": "markdown",
   "id": "87803f87-a99e-4224-8339-03079487bb29",
   "metadata": {},
   "source": [
    "В общем случае, необходимо помнить, что:\n",
    "- Метод и путь, привязываемые к обработчику запроса, задаются с помощью декоратора @app.{method}\n",
    "- Допустимо называть функции-обработчики одинаковым именем\n",
    "- Допустимо задавать у нескольких функций-обарботчиков одинаковые параметры (метод, путь)\n",
    "- При этом работать будет только самый верхний обработчик"
   ]
  },
  {
   "cell_type": "code",
   "execution_count": null,
   "id": "b7b8ecc8-def1-4722-b6fa-8abca0cfcb6b",
   "metadata": {},
   "outputs": [],
   "source": [
    "@app.get(\"/items/{item_id}\")\n",
    "async def read_item(item_id: int):\n",
    "    return {\"item_id\": item_id}\n",
    "\n",
    "\n",
    "@app.get(\"/items/{request_id}\")\n",
    "async def read_item(request_id):\n",
    "    '''\n",
    "    This request handler will never be reached\n",
    "    :param request_id:\n",
    "    :return:\n",
    "    '''\n",
    "    return {\"request_id\": request_id}"
   ]
  },
  {
   "cell_type": "markdown",
   "id": "493e7d97-18ce-4d59-9cc3-8b259bcad169",
   "metadata": {},
   "source": [
    "В случае, если по каким-либо причинам вам необходим отдельный обработчик для запроса, путь которого подходит под уже имеющийся, но при этом значения в плейсхолдерах будут конкретными, например:\n",
    "- /users/{user_id}\n",
    "- /users/current\n",
    "\n",
    "Разместите более конкретный обработчик над общим"
   ]
  },
  {
   "cell_type": "code",
   "execution_count": null,
   "id": "c3405d04-63ed-46f9-a84a-d8f92cccb22d",
   "metadata": {},
   "outputs": [],
   "source": [
    "@app.get(\"/requests/current\")\n",
    "async def read_item():\n",
    "    return {\"request\": \"current item\"}\n",
    "\n",
    "\n",
    "@app.get(\"/requests/{request_id}\")\n",
    "async def read_item(request_id):\n",
    "    return {\"request\": request_id}"
   ]
  },
  {
   "cell_type": "code",
   "execution_count": 22,
   "id": "a56a8c2b-0d21-4500-9722-4fdd94816a30",
   "metadata": {},
   "outputs": [
    {
     "name": "stdout",
     "output_type": "stream",
     "text": [
      "  HTTP/1.1 200 OK\n",
      "  date: Tue, 10 Oct 2023 16:18:34 GMT\n",
      "  server: uvicorn\n",
      "  content-length: 22\n",
      "  content-type: application/json\n",
      "{\"request\":\"alpha-14\"}"
     ]
    }
   ],
   "source": [
    "! wget -q -S -O - http://172.27.10.31:8001/requests/alpha-14"
   ]
  },
  {
   "cell_type": "code",
   "execution_count": 23,
   "id": "c49784e7-ea21-47dc-9937-16142b6adfc5",
   "metadata": {},
   "outputs": [
    {
     "name": "stdout",
     "output_type": "stream",
     "text": [
      "  HTTP/1.1 200 OK\n",
      "  date: Tue, 10 Oct 2023 16:18:44 GMT\n",
      "  server: uvicorn\n",
      "  content-length: 26\n",
      "  content-type: application/json\n",
      "{\"request\":\"current item\"}"
     ]
    }
   ],
   "source": [
    "! wget -q -S -O - http://172.27.10.31:8001/requests/current"
   ]
  },
  {
   "cell_type": "markdown",
   "id": "5a60240c-2614-4eaa-8fcd-84eb73d89257",
   "metadata": {},
   "source": [
    "Можно ограничить вводимые в path parameter значение с помощью enum"
   ]
  },
  {
   "cell_type": "code",
   "execution_count": null,
   "id": "644da518-aaa2-42ae-b37e-8e98b9e499e5",
   "metadata": {},
   "outputs": [],
   "source": [
    "class RequestTypes(str, Enum):\n",
    "    service = 'service'\n",
    "    new_feature = 'new_feature'\n",
    "\n",
    "\n",
    "@app.get(\"/requests/type/{request_type}\")\n",
    "async def read_item(request_type: RequestTypes):\n",
    "    return {\"request_typpe\": request_type.value}"
   ]
  },
  {
   "cell_type": "code",
   "execution_count": 24,
   "id": "18f31e79-64d2-4ea9-9e11-c2ed3265866c",
   "metadata": {},
   "outputs": [
    {
     "name": "stdout",
     "output_type": "stream",
     "text": [
      "  HTTP/1.1 200 OK\n",
      "  date: Tue, 10 Oct 2023 16:22:58 GMT\n",
      "  server: uvicorn\n",
      "  content-length: 27\n",
      "  content-type: application/json\n",
      "{\"request_typpe\":\"service\"}"
     ]
    }
   ],
   "source": [
    "! wget -q -S -O - http://172.27.10.31:8001/requests/type/service"
   ]
  },
  {
   "cell_type": "code",
   "execution_count": 25,
   "id": "9d0bb7c3-9a18-41d5-b5a2-df02c8943b89",
   "metadata": {},
   "outputs": [
    {
     "name": "stdout",
     "output_type": "stream",
     "text": [
      "  HTTP/1.1 422 Unprocessable Entity\n",
      "  date: Tue, 10 Oct 2023 16:23:09 GMT\n",
      "  server: uvicorn\n",
      "  content-length: 179\n",
      "  content-type: application/json\n"
     ]
    }
   ],
   "source": [
    "! wget -q -S -O - http://172.27.10.31:8001/requests/type/abrakadabra"
   ]
  },
  {
   "cell_type": "markdown",
   "id": "b458bfd7-d15d-44de-b2d3-f3d40b111b25",
   "metadata": {},
   "source": [
    "#### Query string"
   ]
  },
  {
   "cell_type": "markdown",
   "id": "52ecb7bb-1289-490e-aa45-14984317f30d",
   "metadata": {},
   "source": [
    "Query string - пары ключ=значение, следующие сразу после пути.\n",
    "\n",
    "```/api/requests?param1=val1&param2=val2```"
   ]
  },
  {
   "cell_type": "code",
   "execution_count": null,
   "id": "b2d9bb23-afd6-4d8b-b659-6c976be2efe6",
   "metadata": {},
   "outputs": [],
   "source": [
    "@app.get(\"/query_params\")\n",
    "async def read_item(page: int = 0, skip: int = 0):\n",
    "    return {\n",
    "        \"page\": page,\n",
    "        \"skip\": skip\n",
    "    }"
   ]
  },
  {
   "cell_type": "code",
   "execution_count": null,
   "id": "5b6c8fb9-06db-4af8-8f72-7c356ba23cc8",
   "metadata": {},
   "outputs": [
    {
     "name": "stdout",
     "output_type": "stream",
     "text": [
      "  HTTP/1.1 200 OK\n",
      "  date: Tue, 10 Oct 2023 16:28:49 GMT\n",
      "  server: uvicorn\n",
      "  content-length: 19\n",
      "  content-type: application/json\n",
      "{\"page\":0,\"skip\":0}"
     ]
    }
   ],
   "source": [
    "! wget -q -S -O - http://172.27.10.31:8001/query_params"
   ]
  },
  {
   "cell_type": "code",
   "execution_count": 27,
   "id": "6f464a4b-958f-426a-985f-7499bbdf61cb",
   "metadata": {},
   "outputs": [
    {
     "name": "stdout",
     "output_type": "stream",
     "text": [
      "  HTTP/1.1 200 OK\n",
      "  date: Tue, 10 Oct 2023 16:28:59 GMT\n",
      "  server: uvicorn\n",
      "  content-length: 20\n",
      "  content-type: application/json\n",
      "{\"page\":10,\"skip\":0}"
     ]
    }
   ],
   "source": [
    "! wget -q -S -O - http://172.27.10.31:8001/query_params?page=10"
   ]
  },
  {
   "cell_type": "code",
   "execution_count": 2,
   "id": "983be2f1-01b4-40a8-9d64-d8f2587a3a2b",
   "metadata": {},
   "outputs": [
    {
     "name": "stdout",
     "output_type": "stream",
     "text": [
      "  HTTP/1.1 200 OK\n",
      "  date: Tue, 10 Oct 2023 16:39:47 GMT\n",
      "  server: uvicorn\n",
      "  content-length: 20\n",
      "  content-type: application/json\n",
      "{\"page\":10,\"skip\":1}"
     ]
    }
   ],
   "source": [
    "! wget -q -S -O - \"http://172.27.10.31:8001/query_params?page=10&skip=1\""
   ]
  },
  {
   "cell_type": "markdown",
   "id": "b323dc52-2c0e-4e90-8677-fb4af187c456",
   "metadata": {},
   "source": [
    "Query parameters могут быть обязательными и необязательными. В предыдущих примерах возможно было не передавать один или оба параметра. В этом случае они будут инициализированы значениями по-умолчанию.\n",
    "\n",
    "В случае, если требуется обязательное присутствие параметра - значение по-умолчанию не задается."
   ]
  },
  {
   "cell_type": "code",
   "execution_count": null,
   "id": "4662e074-8ffa-4046-85b9-d8ad8c138a29",
   "metadata": {},
   "outputs": [],
   "source": [
    "@app.get(\"/query_params\")\n",
    "async def read_item(req: str, page: int = 0, skip: int = 0):\n",
    "    return {\n",
    "        \"page\": page,\n",
    "        \"skip\": skip,\n",
    "        \"req\": req\n",
    "    }"
   ]
  },
  {
   "cell_type": "code",
   "execution_count": 3,
   "id": "64a37eab-9fec-4284-a542-48557a34907a",
   "metadata": {},
   "outputs": [
    {
     "name": "stdout",
     "output_type": "stream",
     "text": [
      "  HTTP/1.1 422 Unprocessable Entity\n",
      "  date: Tue, 10 Oct 2023 16:45:22 GMT\n",
      "  server: uvicorn\n",
      "  content-length: 139\n",
      "  content-type: application/json\n"
     ]
    }
   ],
   "source": [
    "! wget -q -S -O - \"http://172.27.10.31:8001/query_params?page=10&skip=1\""
   ]
  },
  {
   "cell_type": "code",
   "execution_count": 4,
   "id": "ebeb640d-3209-4cc4-b0e9-fcb16f1bb69a",
   "metadata": {},
   "outputs": [
    {
     "name": "stdout",
     "output_type": "stream",
     "text": [
      "  HTTP/1.1 200 OK\n",
      "  date: Tue, 10 Oct 2023 16:45:36 GMT\n",
      "  server: uvicorn\n",
      "  content-length: 32\n",
      "  content-type: application/json\n",
      "{\"page\":0,\"skip\":0,\"req\":\"test\"}"
     ]
    }
   ],
   "source": [
    "! wget -q -S -O - \"http://172.27.10.31:8001/query_params?req=test\""
   ]
  },
  {
   "cell_type": "markdown",
   "id": "dbe229e1-4250-444a-9873-57aa80aa7439",
   "metadata": {},
   "source": [
    "#### Query & Path validation"
   ]
  },
  {
   "cell_type": "markdown",
   "id": "5a559c19-341b-4847-9df7-ab8f40adc2ee",
   "metadata": {},
   "source": [
    "Некоторые параметры требуется заранее ограничивать по диапазону принимаемых значений, для этого в качестве типа параметра используется ```Query``` в сочетании с ```Annotated```."
   ]
  },
  {
   "cell_type": "code",
   "execution_count": null,
   "id": "4e63d933-6fd9-4922-9ba0-9e785d6af20b",
   "metadata": {},
   "outputs": [],
   "source": [
    "from typing import Annotated\n",
    "\n",
    "from fastapi import Query, Path"
   ]
  },
  {
   "cell_type": "code",
   "execution_count": null,
   "id": "7b234c5f-defa-489f-9f8a-19532237395c",
   "metadata": {},
   "outputs": [],
   "source": [
    "@app.get(\"/items/\")\n",
    "async def read_items(q: Annotated[str | None, Query(max_length=50)] = None):\n",
    "    results = {\"items\": [{\"item_id\": \"Foo\"}, {\"item_id\": \"Bar\"}]}\n",
    "    if q:\n",
    "        results.update({\"q\": q})\n",
    "    return results"
   ]
  },
  {
   "cell_type": "code",
   "execution_count": null,
   "id": "10a7bebf-f253-4827-bfc9-8e09038b35b0",
   "metadata": {},
   "outputs": [],
   "source": [
    "@app.get(\"/query_params_typed\")\n",
    "async def read_item(req: Annotated[str, Query(min_length=5, max_length=15)]):\n",
    "    return {\n",
    "        \"req\": req\n",
    "    }"
   ]
  },
  {
   "cell_type": "code",
   "execution_count": 6,
   "id": "8dd725f3-60b7-4aa3-92b2-f7d74c16432a",
   "metadata": {},
   "outputs": [
    {
     "name": "stdout",
     "output_type": "stream",
     "text": [
      "  HTTP/1.1 422 Unprocessable Entity\n",
      "  date: Wed, 11 Oct 2023 07:55:32 GMT\n",
      "  server: uvicorn\n",
      "  content-length: 207\n",
      "  content-type: application/json\n"
     ]
    }
   ],
   "source": [
    "! wget -q -S -O - \"http://172.27.10.31:8001/query_params_typed?req=aaa\""
   ]
  },
  {
   "cell_type": "code",
   "execution_count": 7,
   "id": "374b391e-fa29-4f22-9916-b63d8f4c2c55",
   "metadata": {},
   "outputs": [
    {
     "name": "stdout",
     "output_type": "stream",
     "text": [
      "  HTTP/1.1 200 OK\n",
      "  date: Wed, 11 Oct 2023 07:55:41 GMT\n",
      "  server: uvicorn\n",
      "  content-length: 15\n",
      "  content-type: application/json\n",
      "{\"req\":\"aaaaa\"}"
     ]
    }
   ],
   "source": [
    "! wget -q -S -O - \"http://172.27.10.31:8001/query_params_typed?req=aaaaa\""
   ]
  },
  {
   "cell_type": "code",
   "execution_count": null,
   "id": "a2c96e5c-7b83-40c7-9243-7c839c788464",
   "metadata": {},
   "outputs": [],
   "source": [
    "@app.get(\"/items_validated/{request_id}\")\n",
    "async def read_item(request_id: Annotated[int, Path(ge=10, lt=15)]):\n",
    "    return {\"request_id\": request_id}"
   ]
  },
  {
   "cell_type": "code",
   "execution_count": 1,
   "id": "67376a9b-7437-4b6b-b908-777d40fb85f0",
   "metadata": {},
   "outputs": [
    {
     "name": "stdout",
     "output_type": "stream",
     "text": [
      "  HTTP/1.1 200 OK\n",
      "  date: Wed, 11 Oct 2023 08:03:54 GMT\n",
      "  server: uvicorn\n",
      "  content-length: 17\n",
      "  content-type: application/json\n",
      "{\"request_id\":10}"
     ]
    }
   ],
   "source": [
    "! wget -q -S -O - \"http://172.27.10.31:8001/items_validated/10\""
   ]
  },
  {
   "cell_type": "code",
   "execution_count": 2,
   "id": "1ef7d4bb-08d3-4cea-bdc1-19301eb216dc",
   "metadata": {},
   "outputs": [
    {
     "name": "stdout",
     "output_type": "stream",
     "text": [
      "  HTTP/1.1 422 Unprocessable Entity\n",
      "  date: Wed, 11 Oct 2023 08:04:01 GMT\n",
      "  server: uvicorn\n",
      "  content-length: 180\n",
      "  content-type: application/json\n"
     ]
    }
   ],
   "source": [
    "! wget -q -S -O - \"http://172.27.10.31:8001/items_validated/100\""
   ]
  },
  {
   "cell_type": "markdown",
   "id": "2a9a98e8-54d6-4d21-8a8b-04660324df44",
   "metadata": {},
   "source": [
    "#### Request body"
   ]
  },
  {
   "cell_type": "markdown",
   "id": "a1edf880-0d5f-4d73-a7b1-480ac6311512",
   "metadata": {},
   "source": [
    "- Form data\n",
    "- Files\n",
    "- JSON"
   ]
  },
  {
   "cell_type": "markdown",
   "id": "6b9afcbb-1024-4652-97cb-6f7058a0f1ab",
   "metadata": {},
   "source": [
    "Для обращения к объекту \"Запрос\", содежращему в себе все данные запроса, можно добавить аргумент типа Request"
   ]
  },
  {
   "cell_type": "code",
   "execution_count": null,
   "id": "f66df7cc-2958-48b9-a325-8d2757146817",
   "metadata": {},
   "outputs": [],
   "source": [
    "@app.post(\"/\")\n",
    "async def read_item(request: Request):\n",
    "    return {\n",
    "        \"headers\": request.headers,\n",
    "        \"cooke\": request.cookies,\n",
    "        \"body\": await request.body()\n",
    "    }"
   ]
  },
  {
   "cell_type": "code",
   "execution_count": 6,
   "id": "29701cc6-7eda-4412-8213-5c0db22f9c9a",
   "metadata": {},
   "outputs": [
    {
     "name": "stdout",
     "output_type": "stream",
     "text": [
      "  HTTP/1.1 200 OK\n",
      "  date: Wed, 11 Oct 2023 11:33:13 GMT\n",
      "  server: uvicorn\n",
      "  content-length: 259\n",
      "  content-type: application/json\n",
      "{\"headers\":{\"host\":\"172.27.10.31:8001\",\"user-agent\":\"Wget/1.21.2\",\"accept\":\"*/*\",\"accept-encoding\":\"identity\",\"connection\":\"Keep-Alive\",\"content-type\":\"application/x-www-form-urlencoded\",\"content-length\":\"28\"},\"cooke\":{},\"body\":\"user=evgeniy&password=qwerty\"}"
     ]
    }
   ],
   "source": [
    "! wget --post-data=\"user=evgeniy&password=qwerty\" -q -S -O - \"http://172.27.10.31:8001/\""
   ]
  },
  {
   "cell_type": "code",
   "execution_count": 7,
   "id": "45a7c235-7195-469d-93be-9f148bd630d8",
   "metadata": {},
   "outputs": [
    {
     "name": "stdout",
     "output_type": "stream",
     "text": [
      "  HTTP/1.1 200 OK\n",
      "  date: Wed, 11 Oct 2023 11:33:59 GMT\n",
      "  server: uvicorn\n",
      "  content-length: 272\n",
      "  content-type: application/json\n",
      "{\"headers\":{\"host\":\"172.27.10.31:8001\",\"user-agent\":\"Wget/1.21.2\",\"accept\":\"*/*\",\"accept-encoding\":\"identity\",\"connection\":\"Keep-Alive\",\"content-type\":\"application/x-www-form-urlencoded\",\"content-length\":\"33\"},\"cooke\":{},\"body\":\"{\\\"user\\\":\\\"otus\\\",\\\"password\\\":\\\"otus\\\"}\"}"
     ]
    }
   ],
   "source": [
    "! wget --post-data=\"{\\\"user\\\":\\\"otus\\\",\\\"password\\\":\\\"otus\\\"}\" -q -S -O - \"http://172.27.10.31:8001/\""
   ]
  },
  {
   "cell_type": "markdown",
   "id": "319cd024-8c61-4ab0-a5fc-cd117de52544",
   "metadata": {},
   "source": [
    "Данный путь, хоть и является достаточно интуитивным, но весьма топорный. Можно параметризовать обработчик запроса, также как и в случае с Path и Query."
   ]
  },
  {
   "cell_type": "code",
   "execution_count": null,
   "id": "2b2ad79c-b032-4eb9-b133-47ec9bf21812",
   "metadata": {},
   "outputs": [],
   "source": [
    "from fastapi import Form\n",
    "\n",
    "@app.post(\"/form\")\n",
    "async def read_item(username: Annotated[str, Form()], password: Annotated[str, Form()]):\n",
    "    return {\n",
    "        \"username\": username,\n",
    "        \"password\": password\n",
    "    }"
   ]
  },
  {
   "cell_type": "code",
   "execution_count": 8,
   "id": "5185bf02-1b88-4b20-802e-8851a9267da3",
   "metadata": {},
   "outputs": [
    {
     "name": "stdout",
     "output_type": "stream",
     "text": [
      "  HTTP/1.1 200 OK\n",
      "  date: Wed, 11 Oct 2023 11:43:28 GMT\n",
      "  server: uvicorn\n",
      "  content-length: 42\n",
      "  content-type: application/json\n",
      "{\"username\":\"evgeniy\",\"password\":\"qwerty\"}"
     ]
    }
   ],
   "source": [
    "! wget --post-data=\"username=evgeniy&password=qwerty\" -q -S -O - \"http://172.27.10.31:8001/form\""
   ]
  },
  {
   "cell_type": "code",
   "execution_count": null,
   "id": "426ffeac-0809-46e2-b456-2c5ef33a7235",
   "metadata": {},
   "outputs": [],
   "source": [
    "from fastapi import File\n",
    "\n",
    "@app.post(\"/files/\")\n",
    "async def create_file(file: Annotated[bytes, File()]):\n",
    "    return {\"file_size\": len(file)}"
   ]
  },
  {
   "cell_type": "code",
   "execution_count": 10,
   "id": "a95908cb-772a-4477-9932-e006d9698361",
   "metadata": {},
   "outputs": [
    {
     "name": "stdout",
     "output_type": "stream",
     "text": [
      "-rw-r--r--  1 jovyan users       72 Mar  3  2023 Untitled.ipynb\n",
      "-rw-r--r--  1 jovyan users   552944 Jul 11 17:58 Web.ipynb\n",
      "drwxr-sr-x  1 jovyan users       72 Sep  5 18:13 С-ext | FFI\n"
     ]
    }
   ],
   "source": [
    "! ls -la | tail -n 3"
   ]
  },
  {
   "cell_type": "code",
   "execution_count": 16,
   "id": "7d734fc8-e2ee-4076-b146-fc9abf41b301",
   "metadata": {},
   "outputs": [
    {
     "name": "stdout",
     "output_type": "stream",
     "text": [
      "Collecting httpie\n",
      "  Downloading httpie-3.2.2-py3-none-any.whl (127 kB)\n",
      "\u001b[2K     \u001b[90m━━━━━━━━━━━━━━━━━━━━━━━━━━━━━━━━━━━━━━━\u001b[0m \u001b[32m127.4/127.4 kB\u001b[0m \u001b[31m1.3 MB/s\u001b[0m eta \u001b[36m0:00:00\u001b[0ma \u001b[36m0:00:01\u001b[0m\n",
      "\u001b[?25hRequirement already satisfied: requests-toolbelt>=0.9.1 in /opt/conda/lib/python3.10/site-packages (from httpie) (0.10.1)\n",
      "Requirement already satisfied: setuptools in /opt/conda/lib/python3.10/site-packages (from httpie) (64.0.3)\n",
      "Requirement already satisfied: defusedxml>=0.6.0 in /opt/conda/lib/python3.10/site-packages (from httpie) (0.7.1)\n",
      "Requirement already satisfied: rich>=9.10.0 in /opt/conda/lib/python3.10/site-packages (from httpie) (12.6.0)\n",
      "Requirement already satisfied: charset-normalizer>=2.0.0 in /opt/conda/lib/python3.10/site-packages (from httpie) (2.1.0)\n",
      "Requirement already satisfied: requests[socks]>=2.22.0 in /opt/conda/lib/python3.10/site-packages (from httpie) (2.28.1)\n",
      "Requirement already satisfied: pip in /opt/conda/lib/python3.10/site-packages (from httpie) (22.2.2)\n",
      "Collecting multidict>=4.7.0\n",
      "  Downloading multidict-6.0.4-cp310-cp310-manylinux_2_17_x86_64.manylinux2014_x86_64.whl (114 kB)\n",
      "\u001b[2K     \u001b[90m━━━━━━━━━━━━━━━━━━━━━━━━━━━━━━━━━━━━━━━\u001b[0m \u001b[32m114.5/114.5 kB\u001b[0m \u001b[31m6.8 MB/s\u001b[0m eta \u001b[36m0:00:00\u001b[0m\n",
      "\u001b[?25hRequirement already satisfied: Pygments>=2.5.2 in /opt/conda/lib/python3.10/site-packages (from httpie) (2.12.0)\n",
      "Requirement already satisfied: idna<4,>=2.5 in /opt/conda/lib/python3.10/site-packages (from requests[socks]>=2.22.0->httpie) (3.3)\n",
      "Requirement already satisfied: urllib3<1.27,>=1.21.1 in /opt/conda/lib/python3.10/site-packages (from requests[socks]>=2.22.0->httpie) (1.26.11)\n",
      "Requirement already satisfied: certifi>=2017.4.17 in /opt/conda/lib/python3.10/site-packages (from requests[socks]>=2.22.0->httpie) (2022.6.15)\n",
      "Requirement already satisfied: PySocks!=1.5.7,>=1.5.6 in /opt/conda/lib/python3.10/site-packages (from requests[socks]>=2.22.0->httpie) (1.7.1)\n",
      "Requirement already satisfied: commonmark<0.10.0,>=0.9.0 in /opt/conda/lib/python3.10/site-packages (from rich>=9.10.0->httpie) (0.9.1)\n",
      "Installing collected packages: multidict, httpie\n",
      "Successfully installed httpie-3.2.2 multidict-6.0.4\n"
     ]
    }
   ],
   "source": [
    "! pip install httpie"
   ]
  },
  {
   "cell_type": "code",
   "execution_count": 19,
   "id": "92bd4ee1-2bba-480e-bb44-13158528afe1",
   "metadata": {},
   "outputs": [
    {
     "name": "stdout",
     "output_type": "stream",
     "text": [
      "\u001b[34mHTTP\u001b[39;49;00m/\u001b[34m1.1\u001b[39;49;00m \u001b[34m200\u001b[39;49;00m \u001b[36mOK\u001b[39;49;00m\n",
      "\u001b[36mcontent-length\u001b[39;49;00m: 20\n",
      "\u001b[36mcontent-type\u001b[39;49;00m: application/json\n",
      "\u001b[36mdate\u001b[39;49;00m: Wed, 11 Oct 2023 11:49:29 GMT\n",
      "\u001b[36mserver\u001b[39;49;00m: uvicorn\n",
      "\n",
      "{\u001b[37m\u001b[39;49;00m\n",
      "\u001b[37m    \u001b[39;49;00m\u001b[94m\"file_size\"\u001b[39;49;00m:\u001b[37m \u001b[39;49;00m\u001b[34m552944\u001b[39;49;00m\u001b[37m\u001b[39;49;00m\n",
      "}\u001b[37m\u001b[39;49;00m\n",
      "\n",
      "\n"
     ]
    }
   ],
   "source": [
    "! http -f POST http://172.27.10.31:8001/files/ file@Web.ipynb"
   ]
  },
  {
   "cell_type": "markdown",
   "id": "c93961b3-0c25-474a-a147-82c3dcbcbe5e",
   "metadata": {},
   "source": [
    "### Pydantic"
   ]
  },
  {
   "cell_type": "markdown",
   "id": "0ac8eea5-049c-472c-80e4-b0f275becd0d",
   "metadata": {},
   "source": [
    "Так как для построения REST API скорее всего будет использоваться JSON-формат отправки данных - парсить запрос можно с помощью\n",
    "\n",
    "```json.loads(await request.body().decode('utf-8')```\n",
    "              \n",
    "Но, этот метод также достаточно топорный.\n",
    "            \n",
    "FastAPI предлагает возможность автоматически десериализовать JSON из запроса в экземляр некоторого класса. За десериализацию, валидацю, выдачу ошибок, также, как и в случае с Path, Query, отвечает Pydantic."
   ]
  },
  {
   "cell_type": "code",
   "execution_count": null,
   "id": "d2d2b0f9-b5af-4aec-bcbb-1402252a208f",
   "metadata": {},
   "outputs": [],
   "source": [
    "from pydantic import BaseModel\n",
    "\n",
    "\n",
    "class Item(BaseModel):\n",
    "    name: str\n",
    "    description: str | None = None\n",
    "    price: float\n",
    "    tax: float | None = None\n",
    "\n",
    "\n",
    "@app.post(\"/items/\")\n",
    "async def create_item(\n",
    "    item: Item | None = None,\n",
    "):\n",
    "    return {\"item\": item}"
   ]
  },
  {
   "cell_type": "code",
   "execution_count": 22,
   "id": "a3497e40-02c1-4ebe-b9a9-5c2f4a6ba79c",
   "metadata": {},
   "outputs": [
    {
     "name": "stdout",
     "output_type": "stream",
     "text": [
      "\u001b[34mHTTP\u001b[39;49;00m/\u001b[34m1.1\u001b[39;49;00m \u001b[34m200\u001b[39;49;00m \u001b[36mOK\u001b[39;49;00m\n",
      "\u001b[36mcontent-length\u001b[39;49;00m: 85\n",
      "\u001b[36mcontent-type\u001b[39;49;00m: application/json\n",
      "\u001b[36mdate\u001b[39;49;00m: Wed, 11 Oct 2023 12:00:39 GMT\n",
      "\u001b[36mserver\u001b[39;49;00m: uvicorn\n",
      "\n",
      "{\u001b[37m\u001b[39;49;00m\n",
      "\u001b[37m    \u001b[39;49;00m\u001b[94m\"item\"\u001b[39;49;00m:\u001b[37m \u001b[39;49;00m{\u001b[37m\u001b[39;49;00m\n",
      "\u001b[37m        \u001b[39;49;00m\u001b[94m\"description\"\u001b[39;49;00m:\u001b[37m \u001b[39;49;00m\u001b[33m\"test description\"\u001b[39;49;00m,\u001b[37m\u001b[39;49;00m\n",
      "\u001b[37m        \u001b[39;49;00m\u001b[94m\"name\"\u001b[39;49;00m:\u001b[37m \u001b[39;49;00m\u001b[33m\"test item\"\u001b[39;49;00m,\u001b[37m\u001b[39;49;00m\n",
      "\u001b[37m        \u001b[39;49;00m\u001b[94m\"price\"\u001b[39;49;00m:\u001b[37m \u001b[39;49;00m\u001b[34m29.0\u001b[39;49;00m,\u001b[37m\u001b[39;49;00m\n",
      "\u001b[37m        \u001b[39;49;00m\u001b[94m\"tax\"\u001b[39;49;00m:\u001b[37m \u001b[39;49;00m\u001b[34m0.1\u001b[39;49;00m\u001b[37m\u001b[39;49;00m\n",
      "\u001b[37m    \u001b[39;49;00m}\u001b[37m\u001b[39;49;00m\n",
      "}\u001b[37m\u001b[39;49;00m\n",
      "\n",
      "\n"
     ]
    }
   ],
   "source": [
    "! http POST http://172.27.10.31:8001/items/ \\\n",
    "    name=\"test item\" \\\n",
    "    description=\"test description\" \\\n",
    "    price:=29 \\\n",
    "    tax:=0.1"
   ]
  },
  {
   "cell_type": "code",
   "execution_count": 25,
   "id": "639cf90c-ac1b-4441-bc49-00df70dd521c",
   "metadata": {},
   "outputs": [
    {
     "name": "stdout",
     "output_type": "stream",
     "text": [
      "\u001b[34mHTTP\u001b[39;49;00m/\u001b[34m1.1\u001b[39;49;00m \u001b[34m200\u001b[39;49;00m \u001b[36mOK\u001b[39;49;00m\n",
      "\u001b[36mcontent-length\u001b[39;49;00m: 85\n",
      "\u001b[36mcontent-type\u001b[39;49;00m: application/json\n",
      "\u001b[36mdate\u001b[39;49;00m: Wed, 11 Oct 2023 12:01:20 GMT\n",
      "\u001b[36mserver\u001b[39;49;00m: uvicorn\n",
      "\n",
      "{\u001b[37m\u001b[39;49;00m\n",
      "\u001b[37m    \u001b[39;49;00m\u001b[94m\"item\"\u001b[39;49;00m:\u001b[37m \u001b[39;49;00m{\u001b[37m\u001b[39;49;00m\n",
      "\u001b[37m        \u001b[39;49;00m\u001b[94m\"description\"\u001b[39;49;00m:\u001b[37m \u001b[39;49;00m\u001b[33m\"test description\"\u001b[39;49;00m,\u001b[37m\u001b[39;49;00m\n",
      "\u001b[37m        \u001b[39;49;00m\u001b[94m\"name\"\u001b[39;49;00m:\u001b[37m \u001b[39;49;00m\u001b[33m\"test item\"\u001b[39;49;00m,\u001b[37m\u001b[39;49;00m\n",
      "\u001b[37m        \u001b[39;49;00m\u001b[94m\"price\"\u001b[39;49;00m:\u001b[37m \u001b[39;49;00m\u001b[34m29.0\u001b[39;49;00m,\u001b[37m\u001b[39;49;00m\n",
      "\u001b[37m        \u001b[39;49;00m\u001b[94m\"tax\"\u001b[39;49;00m:\u001b[37m \u001b[39;49;00m\u001b[34m1.0\u001b[39;49;00m\u001b[37m\u001b[39;49;00m\n",
      "\u001b[37m    \u001b[39;49;00m}\u001b[37m\u001b[39;49;00m\n",
      "}\u001b[37m\u001b[39;49;00m\n",
      "\n",
      "\n"
     ]
    }
   ],
   "source": [
    "! http POST http://172.27.10.31:8001/items/ \\\n",
    "    name=\"test item\" \\\n",
    "    description=\"test description\" \\\n",
    "    price:=29 \\\n",
    "    tax:=true"
   ]
  },
  {
   "cell_type": "code",
   "execution_count": 29,
   "id": "cb068b19-762b-4b74-b7e0-85f9816ee8fb",
   "metadata": {},
   "outputs": [
    {
     "name": "stdout",
     "output_type": "stream",
     "text": [
      "\u001b[34mHTTP\u001b[39;49;00m/\u001b[34m1.1\u001b[39;49;00m \u001b[34m200\u001b[39;49;00m \u001b[36mOK\u001b[39;49;00m\n",
      "\u001b[36mcontent-length\u001b[39;49;00m: 86\n",
      "\u001b[36mcontent-type\u001b[39;49;00m: application/json\n",
      "\u001b[36mdate\u001b[39;49;00m: Wed, 11 Oct 2023 12:01:55 GMT\n",
      "\u001b[36mserver\u001b[39;49;00m: uvicorn\n",
      "\n",
      "{\u001b[37m\u001b[39;49;00m\n",
      "\u001b[37m    \u001b[39;49;00m\u001b[94m\"item\"\u001b[39;49;00m:\u001b[37m \u001b[39;49;00m{\u001b[37m\u001b[39;49;00m\n",
      "\u001b[37m        \u001b[39;49;00m\u001b[94m\"description\"\u001b[39;49;00m:\u001b[37m \u001b[39;49;00m\u001b[33m\"test description\"\u001b[39;49;00m,\u001b[37m\u001b[39;49;00m\n",
      "\u001b[37m        \u001b[39;49;00m\u001b[94m\"name\"\u001b[39;49;00m:\u001b[37m \u001b[39;49;00m\u001b[33m\"test item\"\u001b[39;49;00m,\u001b[37m\u001b[39;49;00m\n",
      "\u001b[37m        \u001b[39;49;00m\u001b[94m\"price\"\u001b[39;49;00m:\u001b[37m \u001b[39;49;00m\u001b[34m29.0\u001b[39;49;00m,\u001b[37m\u001b[39;49;00m\n",
      "\u001b[37m        \u001b[39;49;00m\u001b[94m\"tax\"\u001b[39;49;00m:\u001b[37m \u001b[39;49;00m\u001b[34mnull\u001b[39;49;00m\u001b[37m\u001b[39;49;00m\n",
      "\u001b[37m    \u001b[39;49;00m}\u001b[37m\u001b[39;49;00m\n",
      "}\u001b[37m\u001b[39;49;00m\n",
      "\n",
      "\n"
     ]
    }
   ],
   "source": [
    "! http POST http://172.27.10.31:8001/items/ \\\n",
    "    name=\"test item\" \\\n",
    "    description=\"test description\" \\\n",
    "    price:=29 \\\n",
    "    pax:=0"
   ]
  },
  {
   "cell_type": "code",
   "execution_count": 33,
   "id": "3385cd9a-aa54-4a61-9367-86c3e4a04500",
   "metadata": {},
   "outputs": [
    {
     "name": "stdout",
     "output_type": "stream",
     "text": [
      "\u001b[34mHTTP\u001b[39;49;00m/\u001b[34m1.1\u001b[39;49;00m \u001b[34m422\u001b[39;49;00m \u001b[36mUnprocessable Entity\u001b[39;49;00m\n",
      "\u001b[36mcontent-length\u001b[39;49;00m: 289\n",
      "\u001b[36mcontent-type\u001b[39;49;00m: application/json\n",
      "\u001b[36mdate\u001b[39;49;00m: Wed, 11 Oct 2023 12:10:32 GMT\n",
      "\u001b[36mserver\u001b[39;49;00m: uvicorn\n",
      "\n",
      "{\u001b[37m\u001b[39;49;00m\n",
      "\u001b[37m    \u001b[39;49;00m\u001b[94m\"detail\"\u001b[39;49;00m:\u001b[37m \u001b[39;49;00m[\u001b[37m\u001b[39;49;00m\n",
      "\u001b[37m        \u001b[39;49;00m{\u001b[37m\u001b[39;49;00m\n",
      "\u001b[37m            \u001b[39;49;00m\u001b[94m\"input\"\u001b[39;49;00m:\u001b[37m \u001b[39;49;00m{\u001b[37m\u001b[39;49;00m\n",
      "\u001b[37m                \u001b[39;49;00m\u001b[94m\"field\"\u001b[39;49;00m:\u001b[37m \u001b[39;49;00m\u001b[33m\"123\"\u001b[39;49;00m\u001b[37m\u001b[39;49;00m\n",
      "\u001b[37m            \u001b[39;49;00m},\u001b[37m\u001b[39;49;00m\n",
      "\u001b[37m            \u001b[39;49;00m\u001b[94m\"loc\"\u001b[39;49;00m:\u001b[37m \u001b[39;49;00m[\u001b[37m\u001b[39;49;00m\n",
      "\u001b[37m                \u001b[39;49;00m\u001b[33m\"body\"\u001b[39;49;00m,\u001b[37m\u001b[39;49;00m\n",
      "\u001b[37m                \u001b[39;49;00m\u001b[33m\"name\"\u001b[39;49;00m\u001b[37m\u001b[39;49;00m\n",
      "\u001b[37m            \u001b[39;49;00m],\u001b[37m\u001b[39;49;00m\n",
      "\u001b[37m            \u001b[39;49;00m\u001b[94m\"msg\"\u001b[39;49;00m:\u001b[37m \u001b[39;49;00m\u001b[33m\"Field required\"\u001b[39;49;00m,\u001b[37m\u001b[39;49;00m\n",
      "\u001b[37m            \u001b[39;49;00m\u001b[94m\"type\"\u001b[39;49;00m:\u001b[37m \u001b[39;49;00m\u001b[33m\"missing\"\u001b[39;49;00m,\u001b[37m\u001b[39;49;00m\n",
      "\u001b[37m            \u001b[39;49;00m\u001b[94m\"url\"\u001b[39;49;00m:\u001b[37m \u001b[39;49;00m\u001b[33m\"https://errors.pydantic.dev/2.4/v/missing\"\u001b[39;49;00m\u001b[37m\u001b[39;49;00m\n",
      "\u001b[37m        \u001b[39;49;00m},\u001b[37m\u001b[39;49;00m\n",
      "\u001b[37m        \u001b[39;49;00m{\u001b[37m\u001b[39;49;00m\n",
      "\u001b[37m            \u001b[39;49;00m\u001b[94m\"input\"\u001b[39;49;00m:\u001b[37m \u001b[39;49;00m{\u001b[37m\u001b[39;49;00m\n",
      "\u001b[37m                \u001b[39;49;00m\u001b[94m\"field\"\u001b[39;49;00m:\u001b[37m \u001b[39;49;00m\u001b[33m\"123\"\u001b[39;49;00m\u001b[37m\u001b[39;49;00m\n",
      "\u001b[37m            \u001b[39;49;00m},\u001b[37m\u001b[39;49;00m\n",
      "\u001b[37m            \u001b[39;49;00m\u001b[94m\"loc\"\u001b[39;49;00m:\u001b[37m \u001b[39;49;00m[\u001b[37m\u001b[39;49;00m\n",
      "\u001b[37m                \u001b[39;49;00m\u001b[33m\"body\"\u001b[39;49;00m,\u001b[37m\u001b[39;49;00m\n",
      "\u001b[37m                \u001b[39;49;00m\u001b[33m\"price\"\u001b[39;49;00m\u001b[37m\u001b[39;49;00m\n",
      "\u001b[37m            \u001b[39;49;00m],\u001b[37m\u001b[39;49;00m\n",
      "\u001b[37m            \u001b[39;49;00m\u001b[94m\"msg\"\u001b[39;49;00m:\u001b[37m \u001b[39;49;00m\u001b[33m\"Field required\"\u001b[39;49;00m,\u001b[37m\u001b[39;49;00m\n",
      "\u001b[37m            \u001b[39;49;00m\u001b[94m\"type\"\u001b[39;49;00m:\u001b[37m \u001b[39;49;00m\u001b[33m\"missing\"\u001b[39;49;00m,\u001b[37m\u001b[39;49;00m\n",
      "\u001b[37m            \u001b[39;49;00m\u001b[94m\"url\"\u001b[39;49;00m:\u001b[37m \u001b[39;49;00m\u001b[33m\"https://errors.pydantic.dev/2.4/v/missing\"\u001b[39;49;00m\u001b[37m\u001b[39;49;00m\n",
      "\u001b[37m        \u001b[39;49;00m}\u001b[37m\u001b[39;49;00m\n",
      "\u001b[37m    \u001b[39;49;00m]\u001b[37m\u001b[39;49;00m\n",
      "}\u001b[37m\u001b[39;49;00m\n",
      "\n",
      "\n"
     ]
    }
   ],
   "source": [
    "! http POST http://172.27.10.31:8001/items/ \\\n",
    "    field=\"123\""
   ]
  },
  {
   "cell_type": "markdown",
   "id": "366567c6-6d64-4ed4-bc4f-3ee898b5ea66",
   "metadata": {},
   "source": [
    "Можно создавать вложенные модели. FastAPI распарсит их из объекта верхнего уровня, при этом часть параметров можно задать в качестве отдельных аргументов с помощью ```Body()```"
   ]
  },
  {
   "cell_type": "code",
   "execution_count": null,
   "id": "53104186-cbf9-41a5-a6f6-f90408496fc9",
   "metadata": {},
   "outputs": [],
   "source": [
    "from typing import Annotated\n",
    "\n",
    "from fastapi import FastAPI, Body\n",
    "from pydantic import BaseModel\n",
    "\n",
    "class Item(BaseModel):\n",
    "    name: str\n",
    "    description: str | None = None\n",
    "    price: float\n",
    "    tax: float | None = None\n",
    "\n",
    "\n",
    "class User(BaseModel):\n",
    "    username: str\n",
    "    full_name: str | None = None\n",
    "\n",
    "\n",
    "@app.put(\"/items/{item_id}\")\n",
    "async def update_item(\n",
    "    item_id: int, item: Item, user: User, importance: Annotated[int, Body()]\n",
    "):\n",
    "    results = {\"item_id\": item_id, \"item\": item, \"user\": user, \"importance\": importance}\n",
    "    return results"
   ]
  },
  {
   "cell_type": "code",
   "execution_count": null,
   "id": "f741920c-bf7c-49cb-9850-09ffaac47d5e",
   "metadata": {},
   "outputs": [],
   "source": [
    "Request body:\n",
    "\n",
    "{\n",
    "    \"item\": {\n",
    "        \"name\": \"Foo\",\n",
    "        \"description\": \"The pretender\",\n",
    "        \"price\": 42.0,\n",
    "        \"tax\": 3.2\n",
    "    },\n",
    "    \"user\": {\n",
    "        \"username\": \"dave\",\n",
    "        \"full_name\": \"Dave Grohl\"\n",
    "    },\n",
    "    \"importance\": 5\n",
    "}"
   ]
  },
  {
   "cell_type": "code",
   "execution_count": 35,
   "id": "d11b48d7-eed9-458a-8ed0-03e965c86550",
   "metadata": {},
   "outputs": [
    {
     "name": "stdout",
     "output_type": "stream",
     "text": [
      "\u001b[34mHTTP\u001b[39;49;00m/\u001b[34m1.1\u001b[39;49;00m \u001b[34m200\u001b[39;49;00m \u001b[36mOK\u001b[39;49;00m\n",
      "\u001b[36mcontent-length\u001b[39;49;00m: 155\n",
      "\u001b[36mcontent-type\u001b[39;49;00m: application/json\n",
      "\u001b[36mdate\u001b[39;49;00m: Wed, 11 Oct 2023 12:13:56 GMT\n",
      "\u001b[36mserver\u001b[39;49;00m: uvicorn\n",
      "\n",
      "{\u001b[37m\u001b[39;49;00m\n",
      "\u001b[37m    \u001b[39;49;00m\u001b[94m\"importance\"\u001b[39;49;00m:\u001b[37m \u001b[39;49;00m\u001b[34m5\u001b[39;49;00m,\u001b[37m\u001b[39;49;00m\n",
      "\u001b[37m    \u001b[39;49;00m\u001b[94m\"item\"\u001b[39;49;00m:\u001b[37m \u001b[39;49;00m{\u001b[37m\u001b[39;49;00m\n",
      "\u001b[37m        \u001b[39;49;00m\u001b[94m\"description\"\u001b[39;49;00m:\u001b[37m \u001b[39;49;00m\u001b[33m\"The pretender\"\u001b[39;49;00m,\u001b[37m\u001b[39;49;00m\n",
      "\u001b[37m        \u001b[39;49;00m\u001b[94m\"name\"\u001b[39;49;00m:\u001b[37m \u001b[39;49;00m\u001b[33m\"foo\"\u001b[39;49;00m,\u001b[37m\u001b[39;49;00m\n",
      "\u001b[37m        \u001b[39;49;00m\u001b[94m\"price\"\u001b[39;49;00m:\u001b[37m \u001b[39;49;00m\u001b[34m3.2\u001b[39;49;00m,\u001b[37m\u001b[39;49;00m\n",
      "\u001b[37m        \u001b[39;49;00m\u001b[94m\"tax\"\u001b[39;49;00m:\u001b[37m \u001b[39;49;00m\u001b[34mnull\u001b[39;49;00m\u001b[37m\u001b[39;49;00m\n",
      "\u001b[37m    \u001b[39;49;00m},\u001b[37m\u001b[39;49;00m\n",
      "\u001b[37m    \u001b[39;49;00m\u001b[94m\"item_id\"\u001b[39;49;00m:\u001b[37m \u001b[39;49;00m\u001b[34m1\u001b[39;49;00m,\u001b[37m\u001b[39;49;00m\n",
      "\u001b[37m    \u001b[39;49;00m\u001b[94m\"user\"\u001b[39;49;00m:\u001b[37m \u001b[39;49;00m{\u001b[37m\u001b[39;49;00m\n",
      "\u001b[37m        \u001b[39;49;00m\u001b[94m\"full_name\"\u001b[39;49;00m:\u001b[37m \u001b[39;49;00m\u001b[33m\"Dave Grohl\"\u001b[39;49;00m,\u001b[37m\u001b[39;49;00m\n",
      "\u001b[37m        \u001b[39;49;00m\u001b[94m\"username\"\u001b[39;49;00m:\u001b[37m \u001b[39;49;00m\u001b[33m\"dave\"\u001b[39;49;00m\u001b[37m\u001b[39;49;00m\n",
      "\u001b[37m    \u001b[39;49;00m}\u001b[37m\u001b[39;49;00m\n",
      "}\u001b[37m\u001b[39;49;00m\n",
      "\n",
      "\n"
     ]
    }
   ],
   "source": [
    "! http PUT http://172.27.10.31:8001/items/1 \\\n",
    "    item[name]=\"foo\" \\\n",
    "    item[description]=\"The pretender\" \\\n",
    "    item[description]=\"The pretender\" \\\n",
    "    item[price]:=42.0 \\\n",
    "    item[price]:=3.2 \\\n",
    "    user[username]=\"dave\" \\\n",
    "    user[full_name]=\"Dave Grohl\" \\\n",
    "    importance:=5"
   ]
  },
  {
   "cell_type": "markdown",
   "id": "fa149ef1-4ab6-4559-815a-dd8e8b566c80",
   "metadata": {},
   "source": [
    "#### Response"
   ]
  },
  {
   "cell_type": "markdown",
   "id": "02f6b4a2-b299-40ce-94b5-12b6b869db5f",
   "metadata": {},
   "source": [
    "Задать тип ответа можно как с помощью type-hint возвращаемого значения, так и с помощью keyword-аргумента ```response_model``` в декораторе.\n",
    "\n",
    "В случае, если указаны оба значения - ```response_model``` будет в приоритете."
   ]
  },
  {
   "cell_type": "code",
   "execution_count": null,
   "id": "47e3bfa1-2e1b-4db8-aad9-4e5b836463f1",
   "metadata": {},
   "outputs": [],
   "source": [
    "@app.get(\"/items/\", response_model=list[Item])\n",
    "async def read_items() -> Any:\n",
    "    return [\n",
    "        {\"name\": \"Portal Gun\", \"price\": 42.0},\n",
    "        {\"name\": \"Plumbus\", \"price\": 32.0},\n",
    "    ]"
   ]
  },
  {
   "cell_type": "code",
   "execution_count": 36,
   "id": "69fcaffe-5420-4a22-8300-e75d33c2ec4f",
   "metadata": {},
   "outputs": [
    {
     "name": "stdout",
     "output_type": "stream",
     "text": [
      "\u001b[34mHTTP\u001b[39;49;00m/\u001b[34m1.1\u001b[39;49;00m \u001b[34m200\u001b[39;49;00m \u001b[36mOK\u001b[39;49;00m\n",
      "\u001b[36mcontent-length\u001b[39;49;00m: 128\n",
      "\u001b[36mcontent-type\u001b[39;49;00m: application/json\n",
      "\u001b[36mdate\u001b[39;49;00m: Wed, 11 Oct 2023 12:17:18 GMT\n",
      "\u001b[36mserver\u001b[39;49;00m: uvicorn\n",
      "\n",
      "[\u001b[37m\u001b[39;49;00m\n",
      "\u001b[37m    \u001b[39;49;00m{\u001b[37m\u001b[39;49;00m\n",
      "\u001b[37m        \u001b[39;49;00m\u001b[94m\"description\"\u001b[39;49;00m:\u001b[37m \u001b[39;49;00m\u001b[34mnull\u001b[39;49;00m,\u001b[37m\u001b[39;49;00m\n",
      "\u001b[37m        \u001b[39;49;00m\u001b[94m\"name\"\u001b[39;49;00m:\u001b[37m \u001b[39;49;00m\u001b[33m\"Portal Gun\"\u001b[39;49;00m,\u001b[37m\u001b[39;49;00m\n",
      "\u001b[37m        \u001b[39;49;00m\u001b[94m\"price\"\u001b[39;49;00m:\u001b[37m \u001b[39;49;00m\u001b[34m42.0\u001b[39;49;00m,\u001b[37m\u001b[39;49;00m\n",
      "\u001b[37m        \u001b[39;49;00m\u001b[94m\"tax\"\u001b[39;49;00m:\u001b[37m \u001b[39;49;00m\u001b[34mnull\u001b[39;49;00m\u001b[37m\u001b[39;49;00m\n",
      "\u001b[37m    \u001b[39;49;00m},\u001b[37m\u001b[39;49;00m\n",
      "\u001b[37m    \u001b[39;49;00m{\u001b[37m\u001b[39;49;00m\n",
      "\u001b[37m        \u001b[39;49;00m\u001b[94m\"description\"\u001b[39;49;00m:\u001b[37m \u001b[39;49;00m\u001b[34mnull\u001b[39;49;00m,\u001b[37m\u001b[39;49;00m\n",
      "\u001b[37m        \u001b[39;49;00m\u001b[94m\"name\"\u001b[39;49;00m:\u001b[37m \u001b[39;49;00m\u001b[33m\"Plumbus\"\u001b[39;49;00m,\u001b[37m\u001b[39;49;00m\n",
      "\u001b[37m        \u001b[39;49;00m\u001b[94m\"price\"\u001b[39;49;00m:\u001b[37m \u001b[39;49;00m\u001b[34m32.0\u001b[39;49;00m,\u001b[37m\u001b[39;49;00m\n",
      "\u001b[37m        \u001b[39;49;00m\u001b[94m\"tax\"\u001b[39;49;00m:\u001b[37m \u001b[39;49;00m\u001b[34mnull\u001b[39;49;00m\u001b[37m\u001b[39;49;00m\n",
      "\u001b[37m    \u001b[39;49;00m}\u001b[37m\u001b[39;49;00m\n",
      "]\u001b[37m\u001b[39;49;00m\n",
      "\n",
      "\n"
     ]
    }
   ],
   "source": [
    "! http GET http://172.27.10.31:8001/items/"
   ]
  },
  {
   "cell_type": "markdown",
   "id": "30491963-6683-4dd8-ae4c-9e3fb6cd7e41",
   "metadata": {},
   "source": [
    "#### Other responses"
   ]
  },
  {
   "cell_type": "markdown",
   "id": "af7c58a9-c851-4863-973b-df5556a35a2a",
   "metadata": {},
   "source": [
    "FastAPI поддерживает еще несколько типов ответов:\n",
    "- JSONResonse\n",
    "- FileResponse\n",
    "- RedirectResponse\n",
    "- ...\n",
    "\n",
    "https://fastapi.tiangolo.com/advanced/custom-response/?h=jsonres#available-responses"
   ]
  },
  {
   "cell_type": "markdown",
   "id": "d884b49c-07f3-4bf0-b361-2b1b56bc1812",
   "metadata": {},
   "source": [
    "### Dependencies"
   ]
  },
  {
   "cell_type": "markdown",
   "id": "2fa03c3e-5f74-4d3b-aecc-d0d97c2a51a2",
   "metadata": {},
   "source": [
    "FastAPI из коробки содержит механизм внедрения зависимостей, который позволит сократить объем кода."
   ]
  },
  {
   "cell_type": "markdown",
   "id": "e30a0466-e4db-46cb-8026-c86561ee0436",
   "metadata": {},
   "source": [
    "**Пример 1.** Вынесем все часто используемые параметры в отдельный метод"
   ]
  },
  {
   "cell_type": "code",
   "execution_count": null,
   "id": "b830880b-8ee4-4725-8910-5ccab34b7d89",
   "metadata": {},
   "outputs": [],
   "source": [
    "from typing import Annotated\n",
    "\n",
    "from fastapi import Depends, FastAPI\n",
    "\n",
    "app = FastAPI()\n",
    "\n",
    "\n",
    "async def common_parameters(q: str | None = None, skip: int = 0, limit: int = 100):\n",
    "    return {\"q\": q, \"skip\": skip, \"limit\": limit}\n",
    "\n",
    "\n",
    "@app.get(\"/items/\")\n",
    "async def read_items(commons: Annotated[dict, Depends(common_parameters)]):\n",
    "    return commons\n",
    "\n",
    "\n",
    "@app.get(\"/users/\")\n",
    "async def read_users(commons: Annotated[dict, Depends(common_parameters)]):\n",
    "    return commons"
   ]
  },
  {
   "cell_type": "markdown",
   "id": "f99c572d-2987-42e2-b1af-c1a36e66930a",
   "metadata": {},
   "source": [
    "**Пример 2.** Зависимости, сгруппированные в класс"
   ]
  },
  {
   "cell_type": "code",
   "execution_count": null,
   "id": "2b33288d-bb99-4b54-8240-8a5acea0dca8",
   "metadata": {},
   "outputs": [],
   "source": [
    "from typing import Annotated\n",
    "\n",
    "from fastapi import Depends, FastAPI\n",
    "\n",
    "app = FastAPI()\n",
    "\n",
    "\n",
    "fake_items_db = [{\"item_name\": \"Foo\"}, {\"item_name\": \"Bar\"}, {\"item_name\": \"Baz\"}]\n",
    "\n",
    "\n",
    "class CommonQueryParams:\n",
    "    def __init__(self, q: str | None = None, skip: int = 0, limit: int = 100):\n",
    "        self.q = q\n",
    "        self.skip = skip\n",
    "        self.limit = limit\n",
    "\n",
    "\n",
    "@app.get(\"/items/\")\n",
    "async def read_items(commons: Annotated[CommonQueryParams, Depends(CommonQueryParams)]):\n",
    "    response = {}\n",
    "    if commons.q:\n",
    "        response.update({\"q\": commons.q})\n",
    "    items = fake_items_db[commons.skip : commons.skip + commons.limit]\n",
    "    response.update({\"items\": items})\n",
    "    return response"
   ]
  },
  {
   "cell_type": "markdown",
   "id": "732cfb63-7b84-45d0-b955-4acf81e1d492",
   "metadata": {},
   "source": [
    "**Пример 3.** Вложенные зависимости"
   ]
  },
  {
   "cell_type": "code",
   "execution_count": null,
   "id": "eeac2988-8f83-4d71-9b81-4f2d2aae94da",
   "metadata": {},
   "outputs": [],
   "source": [
    "from typing import Annotated\n",
    "\n",
    "from fastapi import Cookie, Depends, FastAPI\n",
    "\n",
    "app = FastAPI()\n",
    "\n",
    "\n",
    "def query_extractor(q: str | None = None):\n",
    "    return q\n",
    "\n",
    "\n",
    "def query_or_cookie_extractor(\n",
    "    q: Annotated[str, Depends(query_extractor)],\n",
    "    last_query: Annotated[str | None, Cookie()] = None,\n",
    "):\n",
    "    if not q:\n",
    "        return last_query\n",
    "    return q\n",
    "\n",
    "\n",
    "@app.get(\"/items/\")\n",
    "async def read_query(\n",
    "    query_or_default: Annotated[str, Depends(query_or_cookie_extractor)]\n",
    "):\n",
    "    return {\"q_or_cookie\": query_or_default}"
   ]
  },
  {
   "cell_type": "markdown",
   "id": "579c3dcc-aca1-49c0-b91c-dd6d33f3ddec",
   "metadata": {},
   "source": [
    "**Пример 4.** Зависимости, использумеые для завершения работы метода, в случае если запрос не прошел валидацию"
   ]
  },
  {
   "cell_type": "code",
   "execution_count": null,
   "id": "0767d661-2b78-4461-a94e-1cd0682013e2",
   "metadata": {},
   "outputs": [],
   "source": [
    "from typing import Annotated\n",
    "\n",
    "from fastapi import Depends, FastAPI, Header, HTTPException\n",
    "\n",
    "app = FastAPI()\n",
    "\n",
    "\n",
    "async def verify_token(x_token: Annotated[str, Header()]):\n",
    "    if x_token != \"fake-super-secret-token\":\n",
    "        raise HTTPException(status_code=400, detail=\"X-Token header invalid\")\n",
    "\n",
    "\n",
    "async def verify_key(x_key: Annotated[str, Header()]):\n",
    "    if x_key != \"fake-super-secret-key\":\n",
    "        raise HTTPException(status_code=400, detail=\"X-Key header invalid\")\n",
    "    return x_key\n",
    "\n",
    "\n",
    "@app.get(\"/items/\", dependencies=[Depends(verify_token), Depends(verify_key)])\n",
    "async def read_items():\n",
    "    return [{\"item\": \"Foo\"}, {\"item\": \"Bar\"}]"
   ]
  },
  {
   "cell_type": "markdown",
   "id": "bfddb402-7d66-49ef-8314-459be8435a0c",
   "metadata": {},
   "source": [
    "### Deploy"
   ]
  },
  {
   "cell_type": "markdown",
   "id": "47c54d34-965f-43d4-93f7-798c24652d1a",
   "metadata": {},
   "source": [
    "Обычно для запуска инстанса FastAPI используется ASGI server ```uvicorn```. Проблема в том, что ```uvicorn``` хоть и поддерживает асинхронные фреймворки, а также запуск wokrer'ов, но тем не менее его возможности по работе с worker'ами оставляют желать лучшего. Для решения этой проблемы используется связка ```gunicorn``` + ```uvicorn```.\n",
    "\n",
    "Gunicorn это WSGI-сервер, однако он умеет работать в режиме мастер-процесса, запуская и отслеживая состояние нескольких worker'ов."
   ]
  },
  {
   "cell_type": "markdown",
   "id": "0e688e67-7ba7-4948-942e-ea7b97cef281",
   "metadata": {},
   "source": [
    "![gunicorn master process](https://nicewook.github.io/post_web/Gunicorn%20Worker%20Types.files/image004.gif)"
   ]
  },
  {
   "cell_type": "markdown",
   "id": "efa087e7-4f82-45b6-a8de-e81571a83d44",
   "metadata": {},
   "source": [
    "```gunicorn``` поддерживает запуск ```uvicorn``` worker`ов.\n",
    "\n",
    "```gunicorn```:\n",
    "- Запустит требуемое количество процессов\n",
    "- Отследит состояние worker`ов\n",
    "- Остановит работу worker`ов, которые перестали отвечать\n",
    "- Поднимет новые wokrer`ы\n",
    "\n",
    "Так как для запуска worker`ов используется ```fork()```, сокет, прослушивание которого начнет ```gunicorn```, будет доступен для всех дочерних процессов-воркеров.\n",
    "\n",
    "***Ограничение***: gunicorn работает только под Linux (под Windows нет системного вызова ```fork()```)"
   ]
  },
  {
   "cell_type": "code",
   "execution_count": null,
   "id": "8f37df9e-5013-477a-824f-09a1879572c4",
   "metadata": {},
   "outputs": [],
   "source": [
    "pip install gunicorn"
   ]
  },
  {
   "cell_type": "code",
   "execution_count": null,
   "id": "db967022-e3a7-47c7-93ab-d106d4f93d79",
   "metadata": {},
   "outputs": [],
   "source": [
    "gunicorn app.main:app --workers 4 --worker-class uvicorn.workers.UvicornWorker --bind 0.0.0.0:80 --log-level 'error'"
   ]
  },
  {
   "cell_type": "markdown",
   "id": "f2485cd2-5883-493d-a982-650712198241",
   "metadata": {},
   "source": [
    "Пример Dockerfile"
   ]
  },
  {
   "cell_type": "code",
   "execution_count": null,
   "id": "4771d8c6-6815-4c3d-a501-5861880b8ccb",
   "metadata": {},
   "outputs": [],
   "source": [
    "FROM python:3.9\n",
    "WORKDIR /code\n",
    "COPY ./requirements.txt /code/requirements.txt\n",
    "RUN pip install --no-cache-dir --upgrade -r /code/requirements.txt\n",
    "COPY ./app /code/app\n",
    "CMD [\"uvicorn\", \"app.main:app\", \"--host\", \"0.0.0.0\", \"--port\", \"80\"]"
   ]
  },
  {
   "cell_type": "markdown",
   "id": "5d63286f-1667-475d-98a7-1e351a2372a2",
   "metadata": {},
   "source": [
    "## Работа с БД"
   ]
  },
  {
   "cell_type": "markdown",
   "id": "fe204036-1c07-457b-802a-637cb3559ab5",
   "metadata": {},
   "source": [
    "**Цели занятия**:\n",
    "- Подключить SQLAlchemy к приложению\n",
    "- Добавить запросы с простыми CRUD-операциями\n",
    "- Работать с БД асинхронно\n",
    "- Добавить дополнительные механизмы аутентификации"
   ]
  },
  {
   "cell_type": "markdown",
   "id": "13549ffb-c661-443e-9664-0387be1df384",
   "metadata": {},
   "source": [
    "### SQLAlchemy"
   ]
  },
  {
   "cell_type": "markdown",
   "id": "95ed1ae0-c8da-432b-8d2e-29237db4a802",
   "metadata": {},
   "source": [
    "### Authentication schemas"
   ]
  },
  {
   "cell_type": "code",
   "execution_count": null,
   "id": "2a17b743-6176-4f30-940f-32a5281e62b3",
   "metadata": {},
   "outputs": [],
   "source": []
  }
 ],
 "metadata": {
  "kernelspec": {
   "display_name": "Python 3 (ipykernel)",
   "language": "python",
   "name": "python3"
  },
  "language_info": {
   "codemirror_mode": {
    "name": "ipython",
    "version": 3
   },
   "file_extension": ".py",
   "mimetype": "text/x-python",
   "name": "python",
   "nbconvert_exporter": "python",
   "pygments_lexer": "ipython3",
   "version": "3.10.5"
  }
 },
 "nbformat": 4,
 "nbformat_minor": 5
}
